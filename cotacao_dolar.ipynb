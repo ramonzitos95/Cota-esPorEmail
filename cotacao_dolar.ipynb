{
 "cells": [
  {
   "cell_type": "code",
   "execution_count": 32,
   "id": "5bb36c60",
   "metadata": {},
   "outputs": [
    {
     "data": {
      "text/plain": [
       "'5.18'"
      ]
     },
     "metadata": {},
     "output_type": "display_data"
    },
    {
     "data": {
      "text/plain": [
       "'5.32'"
      ]
     },
     "metadata": {},
     "output_type": "display_data"
    }
   ],
   "source": [
    "import time\n",
    "import pyautogui as pa\n",
    "import pyperclip as pyper\n",
    "\n",
    "from selenium import webdriver\n",
    "from selenium.webdriver.common.by import By\n",
    "\n",
    "pa.PAUSE = 1\n",
    "\n",
    "#Abre o google para pesquisa \n",
    "driver = webdriver.Chrome()\n",
    "driver.get(\"https://www.google.com.br/\")\n",
    "time.sleep(3)\n",
    "\n",
    "#Digita a moeda procurada\n",
    "driver.find_element(By.XPATH, \"//html/body/div[1]/div[3]/form/div[1]/div[1]/div[1]/div/div[2]/input\").send_keys(\"Cotação dolar\")\n",
    "pa.hotkey(\"enter\")\n",
    "\n",
    "#Pega a cotação do dólar\n",
    "cotacao_dolar = driver.find_element(By.XPATH, \"//html/body/div[7]/div/div[10]/div/div[2]/div[2]/div/div/div[1]/div/div/div/div/div/div/div[3]/div[1]/div[1]/div[2]/span[1]\").get_attribute('data-value')\n",
    "valor_formatado_dolar = \"{:.2f}\".format(float(cotacao_dolar))\n",
    "display(valor_formatado_dolar)\n",
    "\n",
    "time.sleep(5)\n",
    "\n",
    "driver.quit()\n",
    "\n",
    "#Abre o google para pesquisa \n",
    "driver = webdriver.Chrome()\n",
    "driver.get(\"https://www.google.com.br/\")\n",
    "time.sleep(3)\n",
    "\n",
    "#Digita a moeda procurada\n",
    "driver.find_element(By.XPATH, \"//html/body/div[1]/div[3]/form/div[1]/div[1]/div[1]/div/div[2]/input\").send_keys(\"Cotação euro\")\n",
    "pa.hotkey(\"enter\")\n",
    "\n",
    "#Pega a cotação do euro\n",
    "cotacao_euro = driver.find_element(By.XPATH, \"//html/body/div[7]/div/div[10]/div/div[2]/div[2]/div/div/div[1]/div/div/div/div/div/div/div[3]/div[1]/div[1]/div[2]/span[1]\").get_attribute('data-value')\n",
    "valor_formatado_euro = \"{:.2f}\".format(float(cotacao_euro))\n",
    "display(valor_formatado_euro)\n",
    "\n",
    "time.sleep(5)\n",
    "\n",
    "driver.quit()\n",
    "\n",
    "#abre gmail\n",
    "pa.hotkey(\"ctrl\", \"t\")\n",
    "pyper.copy(r\"https://mail.google.com/mail/u/0/#inbox\")\n",
    "pa.hotkey(\"ctrl\", \"v\")\n",
    "time.sleep(5)\n",
    "pa.hotkey(\"enter\")\n",
    "\n",
    "#Clica no botão para abrir editor email\n",
    "time.sleep(7)\n",
    "pa.click(149, 173)\n",
    "\n",
    "#escreve o destinatário\n",
    "pa.write(\"ramonss.bque@gmail.com\")\n",
    "pa.hotkey(\"tab\")\n",
    "pa.hotkey(\"tab\")\n",
    "\n",
    "#escreve o assunto\n",
    "pa.write(\"Cotações atuais\")\n",
    "pa.hotkey(\"tab\")\n",
    "\n",
    "#Escreve corpo do email\n",
    "mensagem = f\"\"\"\n",
    "    Cotacao dolar :{valor_formatado_dolar}\n",
    "    Cotacao euro :{valor_formatado_euro}\n",
    "\"\"\"\n",
    "pa.write(mensagem)\n",
    "\n",
    "#clica no botão enviar\n",
    "pa.hotkey(\"ctrl\", \"enter\")\n",
    "\n",
    "\n",
    "\n",
    "\n",
    "\n",
    "\n",
    "\n",
    "\n"
   ]
  },
  {
   "cell_type": "code",
   "execution_count": 27,
   "id": "25eca4a5",
   "metadata": {},
   "outputs": [
    {
     "data": {
      "text/plain": [
       "Point(x=149, y=173)"
      ]
     },
     "execution_count": 27,
     "metadata": {},
     "output_type": "execute_result"
    }
   ],
   "source": [
    "time.sleep(5)\n",
    "pa.position()"
   ]
  },
  {
   "cell_type": "code",
   "execution_count": 18,
   "id": "c34f379d",
   "metadata": {},
   "outputs": [
    {
     "data": {
      "text/plain": [
       "'5.31'"
      ]
     },
     "metadata": {},
     "output_type": "display_data"
    }
   ],
   "source": [
    "#Abre o google para pesquisa \n",
    "driver = webdriver.Chrome()\n",
    "driver.get(\"https://www.google.com.br/\")\n",
    "time.sleep(3)\n",
    "\n",
    "#Digita a moeda procurada\n",
    "driver.find_element(By.XPATH, \"//html/body/div[1]/div[3]/form/div[1]/div[1]/div[1]/div/div[2]/input\").send_keys(\"Cotação euro\")\n",
    "pa.hotkey(\"enter\")\n",
    "\n",
    "#Pega a cotação do euro\n",
    "cotacao_euro = driver.find_element(By.XPATH, \"//html/body/div[7]/div/div[10]/div/div[2]/div[2]/div/div/div[1]/div/div/div/div/div/div/div[3]/div[1]/div[1]/div[2]/span[1]\").get_attribute('data-value')\n",
    "valor_formatado_euro = \"{:.2f}\".format(float(cotacao_euro))\n",
    "display(valor_formatado_euro)\n",
    "\n",
    "\n",
    "time.sleep(2)\n",
    "\n",
    "driver.quit()"
   ]
  },
  {
   "cell_type": "code",
   "execution_count": null,
   "id": "f0c197cf",
   "metadata": {},
   "outputs": [],
   "source": []
  }
 ],
 "metadata": {
  "kernelspec": {
   "display_name": "Python 3 (ipykernel)",
   "language": "python",
   "name": "python3"
  },
  "language_info": {
   "codemirror_mode": {
    "name": "ipython",
    "version": 3
   },
   "file_extension": ".py",
   "mimetype": "text/x-python",
   "name": "python",
   "nbconvert_exporter": "python",
   "pygments_lexer": "ipython3",
   "version": "3.9.12"
  }
 },
 "nbformat": 4,
 "nbformat_minor": 5
}
